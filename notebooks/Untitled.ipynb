{
 "cells": [
  {
   "cell_type": "code",
   "execution_count": 56,
   "metadata": {},
   "outputs": [],
   "source": [
    "import pandas as pd\n",
    "\n",
    "articles_2009 = pd.read_csv(\"/Users/nancy/PycharmProjects/medium-ds-articles/data/processed/medium_scrapy_2009-2011_validated.csv\")\n",
    "\n",
    "articles_2012 = pd.read_csv(\"/Users/nancy/PycharmProjects/medium-ds-articles/data/processed/medium_scrapy_2012-2013_validated.csv\")"
   ]
  },
  {
   "cell_type": "code",
   "execution_count": 57,
   "metadata": {},
   "outputs": [],
   "source": [
    "articles_2012['postingTime_y'] = pd.to_datetime(articles_2012['postingTime_y'])"
   ]
  },
  {
   "cell_type": "code",
   "execution_count": 58,
   "metadata": {},
   "outputs": [],
   "source": [
    "articles_2009['postingTime_y'] = pd.to_datetime(articles_2009['postingTime_y'])"
   ]
  },
  {
   "cell_type": "code",
   "execution_count": 59,
   "metadata": {},
   "outputs": [],
   "source": [
    "articles_2009.columns = ['NumOfClaps', 'NumOfComments', 'articleTags', 'linkOfAuthorProfile', 'nameOfAuthor', \n",
    "                         'readingTime', 'articleLink', 'article', 'postingTime']"
   ]
  },
  {
   "cell_type": "code",
   "execution_count": 60,
   "metadata": {},
   "outputs": [],
   "source": [
    "articles_2009.columns = ['NumOfClaps', 'NumOfComments', 'articleTags', 'linkOfAuthorProfile', 'nameOfAuthor', \n",
    "                         'readingTime', 'articleLink', 'article', 'postingTime']"
   ]
  },
  {
   "cell_type": "code",
   "execution_count": 61,
   "metadata": {},
   "outputs": [],
   "source": [
    "final = pd.concat([articles_2009, articles_2009])"
   ]
  },
  {
   "cell_type": "code",
   "execution_count": 67,
   "metadata": {},
   "outputs": [
    {
     "data": {
      "text/plain": [
       "0                          3 Years!! exhilarated team!!\n",
       "1                                          Weakest Link\n",
       "2        Small Thoughts | Blogging, Freedom and Privacy\n",
       "3     1000x Faster Spelling Correction algorithm (2012)\n",
       "4     Netflix Recommendations: Beyond the 5 stars (P...\n",
       "5      Please, Big Data people, just say what you mean…\n",
       "6                     Weekend Reading — 22–23 JUNE 2013\n",
       "7     Innovation, hard work and constant learning at...\n",
       "8                            Full360 Likes Jaspersoft 5\n",
       "9                Covering Indexes with Included Columns\n",
       "10                         Dashboards Aren’t the Answer\n",
       "11                What the $*&@#^* is Applied Big Data?\n",
       "12            Hadoop Platform as a Service in the Cloud\n",
       "13                               Data Science paradigms\n",
       "14    Questions CIOs Often Ask On Master Data Manage...\n",
       "15        What is Analytics? Part I: Four Short Answers\n",
       "16    What is Analytics? Part II: A Longer Definitio...\n",
       "17           Analytics for Small and Medium Sized Firms\n",
       "18                            What is a Data Scientist?\n",
       "19                           Fellow Spotlight: Cinna Wu\n",
       "20    Three Definitions of Big Data for the Supply C...\n",
       "21                         Maps Are More Than Eye Candy\n",
       "22                         THE SEXIEST JOB IN THE WORLD\n",
       "23                         A Saturday on Strava, Mapped\n",
       "24                               stepping into thin air\n",
       "25    Improving Your Transportation Analytics with E...\n",
       "26                                         I See Graphs\n",
       "27    Statistics for fun and profit (and analyzing s...\n",
       "28                 Introducing Lipstick on A(pache) Pig\n",
       "29                         Welcome to the Insight Blog!\n",
       "                            ...                        \n",
       "37    On Persuadable Customers & Predictive Analytic...\n",
       "38             Will we ever get past classical physics?\n",
       "39                         Location Relevance at Airbnb\n",
       "40              Data-Driven Games Development Rockstars\n",
       "41                   Data Scientists: the world need us\n",
       "42          The Rise of Column-based data stores Part 1\n",
       "43    Inspector Git: Discover Awesome New Repositori...\n",
       "44                                  Go Heatmap Yourself\n",
       "45    ThisPlusThat: A Search Engine That Lets You ‘A...\n",
       "46    Big Data’s Role in Creating Customer Centric B...\n",
       "47                                          Sensemaking\n",
       "48                           Nailing the Tech Interview\n",
       "49               On the Path to Personalization: Part 1\n",
       "50    Lora Cecere on the Role of Analytics in the Su...\n",
       "51           The Golden Age of Social Science Has Begun\n",
       "52                               Three Types of Buffers\n",
       "53        Comment on “Is Big Data an Economic Big Dud?”\n",
       "54    New to Machine Learning? Avoid these three mis...\n",
       "55    Reinventing Social Sciences in the Era of Big ...\n",
       "56    Why it’s the era of Data Science but not of th...\n",
       "57    PARC and SAP Co-innovation: Adding Graph Analy...\n",
       "58    Saving Money by Applying Data Science to Equip...\n",
       "59    A chat about data science and our fun visualiz...\n",
       "60    Harnessing the combined power of SAP HANA and ...\n",
       "61    Netflix Presentation Videos from AWS Re:Invent...\n",
       "62    How to Make Medium the World’s Greatest “Colla...\n",
       "63    What I Learned From Analyzing 1,000 Medium Col...\n",
       "64    Analytics For Hackers: How To Think About Even...\n",
       "65    Event Data vs Entity Data — How to store user ...\n",
       "66    Mixpanel vs Keen IO — What’s the difference, a...\n",
       "Name: article, Length: 134, dtype: object"
      ]
     },
     "execution_count": 67,
     "metadata": {},
     "output_type": "execute_result"
    }
   ],
   "source": [
    "final['article']"
   ]
  },
  {
   "cell_type": "code",
   "execution_count": 62,
   "metadata": {},
   "outputs": [
    {
     "data": {
      "text/plain": [
       "array([[<matplotlib.axes._subplots.AxesSubplot object at 0x116bff0b8>]],\n",
       "      dtype=object)"
      ]
     },
     "execution_count": 62,
     "metadata": {},
     "output_type": "execute_result"
    },
    {
     "data": {
      "image/png": "[encoded data removed]",
      "text/plain": [
       "<Figure size 432x288 with 1 Axes>"
      ]
     },
     "metadata": {
      "needs_background": "light"
     },
     "output_type": "display_data"
    }
   ],
   "source": [
    "%matplotlib inline\n",
    "final.hist('readingTime')"
   ]
  },
  {
   "cell_type": "code",
   "execution_count": 64,
   "metadata": {},
   "outputs": [
    {
     "data": {
      "text/plain": [
       "<matplotlib.axes._subplots.AxesSubplot at 0x116bffd68>"
      ]
     },
     "execution_count": 64,
     "metadata": {},
     "output_type": "execute_result"
    },
    {
     "data": {
      "image/png": "[encoded data removed]",
      "text/plain": [
       "<Figure size 432x288 with 1 Axes>"
      ]
     },
     "metadata": {
      "needs_background": "light"
     },
     "output_type": "display_data"
    }
   ],
   "source": [
    "final.plot(kind='line', x='postingTime', y='readingTime')"
   ]
  },
  {
   "cell_type": "code",
   "execution_count": null,
   "metadata": {},
   "outputs": [],
   "source": []
  }
 ],
 "metadata": {
  "kernelspec": {
   "display_name": "Python 3",
   "language": "python",
   "name": "python3"
  },
  "language_info": {
   "codemirror_mode": {
    "name": "ipython",
    "version": 3
   },
   "file_extension": ".py",
   "mimetype": "text/x-python",
   "name": "python",
   "nbconvert_exporter": "python",
   "pygments_lexer": "ipython3",
   "version": "3.7.1"
  }
 },
 "nbformat": 4,
 "nbformat_minor": 2
}
